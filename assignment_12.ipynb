{
 "cells": [
  {
   "cell_type": "code",
   "execution_count": 1,
   "metadata": {},
   "outputs": [
    {
     "name": "stdout",
     "output_type": "stream",
     "text": [
      "* ASSIGNMENT_12 *\n"
     ]
    }
   ],
   "source": [
    "print(\"* ASSIGNMENT_12 *\")"
   ]
  },
  {
   "cell_type": "code",
   "execution_count": 1,
   "metadata": {},
   "outputs": [
    {
     "name": "stdout",
     "output_type": "stream",
     "text": [
      "Q_1_ANS :- In Python, we can define custom exceptions by creating a new class that is derived from the built-in Exception class. Exceptions need to be derived from the Exception class, either directly or indirectly. Although not mandatory, most of the exceptions are named as names that end in “Error” similar to the naming of the standard exceptions in python. \n"
     ]
    }
   ],
   "source": [
    "print('Q_1_ANS :- In Python, we can define custom exceptions by creating a new class that is derived from the built-in Exception class. Exceptions need to be derived from the Exception class, either directly or indirectly. Although not mandatory, most of the exceptions are named as names that end in “Error” similar to the naming of the standard exceptions in python. ')"
   ]
  },
  {
   "cell_type": "code",
   "execution_count": null,
   "metadata": {},
   "outputs": [],
   "source": [
    "print('Q_2_ANS :-  ')\n",
    "print(\"EX :- A python program to print python Exception Hierachy \")\n",
    "\n",
    "import inspect\n",
    "\n",
    "def treeClass(cls, ind = 0):\n",
    "\t\n",
    "\tprint ('-' * ind, cls.__name__)\n",
    "\t\n",
    "\tfor i in cls.__subclasses__():\n",
    "\t\ttreeClass(i, ind + 3)\n",
    "\n",
    "print(\"Hierarchy for Built-in exceptions is : \")\n",
    "\n",
    "inspect.getclasstree(inspect.getmro(BaseException))\n",
    "\n",
    "treeClass(BaseException)\n"
   ]
  },
  {
   "cell_type": "code",
   "execution_count": 14,
   "metadata": {},
   "outputs": [
    {
     "name": "stdout",
     "output_type": "stream",
     "text": [
      "Q_3_ANS :- The arithmetic error occurs when an error is encountered during numeric calculations in Python. This includes Zerodivision Error and Floating point error. In addition, zero division error is raised when you divide a numeric value by zero. \n",
      "EX :- \n",
      "division by zero\n",
      "You are welcome\n"
     ]
    }
   ],
   "source": [
    "print('Q_3_ANS :- The arithmetic error occurs when an error is encountered during numeric calculations in Python. This includes Zerodivision Error and Floating point error. In addition, zero division error is raised when you divide a numeric value by zero. ')\n",
    "print(\"EX :- \")\n",
    "\n",
    "try:\n",
    "    first_number = int(input(\"Enter the first number:\"))\n",
    "    second_number = int(input(\"Enter the second number:\"))\n",
    "    sum = first_number + second_number\n",
    "    division =  first_number / second_number\n",
    "except ZeroDivisionError as e:\n",
    "    print(e)\n",
    "except ValueError:\n",
    "    print(\"Please enter an integer value, not an alphabet or any special character\")\n",
    "except :\n",
    "    print(\"An error occurred\")\n",
    "finally:\n",
    "   print(\"You are welcome\")\n"
   ]
  },
  {
   "cell_type": "code",
   "execution_count": 20,
   "metadata": {},
   "outputs": [
    {
     "name": "stdout",
     "output_type": "stream",
     "text": [
      "Q_4_ANS :- The LookupError exception in Python forms the base class for all exceptions that are raised when an index or a key is not found for a sequence or dictionary respectively. You can use LookupError exception class to handle both IndexError and KeyError exception classes.\n",
      "EX_1 :- KeyError \n",
      "'fees', <class 'KeyError'>\n",
      "EX_2 :- IndexError \n",
      "list index out of range, <class 'IndexError'>\n"
     ]
    }
   ],
   "source": [
    "print('Q_4_ANS :- The LookupError exception in Python forms the base class for all exceptions that are raised when an index or a key is not found for a sequence or dictionary respectively. You can use LookupError exception class to handle both IndexError and KeyError exception classes.')\n",
    "\n",
    "print(\"EX_1 :- KeyError \")\n",
    "\n",
    "Program_info = {'instetute_name': 'PwSkills',\n",
    "                'course_name': 'Data Science',\n",
    "                 'mantors':2,\n",
    "                'language': 'Hinglish'}\n",
    "user_input = input('What do you want to learn about Program ==> ')\n",
    "\n",
    "try:\n",
    "    print(f'{user_input} is {Program_info[user_input]}')\n",
    "except LookupError as e:\n",
    "    print(f'{e}, {e.__class__}')\n",
    "\n",
    "print(\"EX_2 :- IndexError \")\n",
    "\n",
    "x = [1, 2, 3, 4]\n",
    "try:\n",
    "    print(x[10])\n",
    "except LookupError as e:\n",
    "    print(f\"{e}, {e.__class__}\")\n"
   ]
  },
  {
   "cell_type": "code",
   "execution_count": 22,
   "metadata": {},
   "outputs": [
    {
     "name": "stdout",
     "output_type": "stream",
     "text": [
      "Q_5_ANS :- ImportError :- This error generally occurs when a class cannot be imported due to one of the following reasons: The imported class is in a circular dependency. The imported class is unavailable or was not created. The imported class name is misspelled.\n",
      "ModuleNotFoundError :- Sometimes, Python throws the ModuleNotFoundError afterward. As the name implies, this error occurs when you're trying to access or use a module that cannot be found. In the case of the title, the '*module named Python*' cannot be found. Python here can be any module.\n"
     ]
    }
   ],
   "source": [
    "print(\"Q_5_ANS :- ImportError :- This error generally occurs when a class cannot be imported due to one of the following reasons: The imported class is in a circular dependency. The imported class is unavailable or was not created. The imported class name is misspelled.\\nModuleNotFoundError :- Sometimes, Python throws the ModuleNotFoundError afterward. As the name implies, this error occurs when you're trying to access or use a module that cannot be found. In the case of the title, the '*module named Python*' cannot be found. Python here can be any module.\")"
   ]
  },
  {
   "cell_type": "code",
   "execution_count": 26,
   "metadata": {},
   "outputs": [],
   "source": [
    "print('Q_6_ANS :- ')\n",
    "with open(\"Exception.txt\",\"w\")as e:\n",
    "    e.write(\" 1. Use Exceptions for Exceptional Cases :-\\nExceptions are, by definition, exceptional. They indicate that something went wrong that was not expected to go wrong. As such, they should be used sparingly, and only for truly exceptional cases.\\nIf you find yourself using exceptions for control flow, or for anything other than exceptional cases, then you’re probably doing it wrong. Exceptions are slow, and they can make code harder to read and understand. They should be used sparingly, and only for truly exceptional cases.\\nSo what counts as an exceptional case? Here are some examples:\\n– A network connection is refused\\n– A file cannot be opened\\n- A database query returns no results\\nThese are all cases where something went wrong that was not expected to go wrong. If you find yourself using exceptions for anything other than these sorts of cases, then you’re probably doing it wrong.\\n2. Don’t Swallow the Exception\\nWhen you “swallow” an exception, you essentially ignore it. This is bad for a few reasons. For one, if the exception was caused by a bug in your code, swallowing it means that the bug will never be fixed. The exception will just keep happening and nobody will know about it or be able to do anything about it.\\nSwallowing exceptions also makes it difficult to debug your code because you can’t see what’s going on behind the scenes. If you’re not seeing any errors, it’s hard to tell where the problem is.\\nFinally, swallowing exceptions is generally considered bad practice because it goes against the principle of “fail early, fail often.” Failing early means failing as soon as possible so that you can fix the problem and move on. Failing often means failing frequently so that you get used to it and become better at dealing with failures.\\n3. Catch Specific Exceptions\\nWhen you catch a general exception, like Exception, you’re catching everything. This includes system-level errors that are unlikely to be handled gracefully by your code. It’s better to be explicit about which exceptions you want to catch, so you can handle them appropriately.\\nIt’s also important to remember that when you catch an exception, you’re essentially saying “I know this might happen, and I’m prepared to deal with it.” By being specific about which exceptions you’re catching, you’re conveying confidence in your code.\\n4. Always Clean Up Resources in a Finally Block\\nSuppose you have a file that you need to open, read from, and then close. If an exception occurs while reading from the file, you’ll want to make sure the file is properly closed before moving on. Otherwise, you risk leaving the file in an inconsistent state or even corrupting it.\\nThe best way to ensure the file is properly closed is to put the code for closing it in a finally block. That way, whether or not an exception occurs, the file will always be closed before the program continues.\\n5. Avoid Raising Generic Exceptions\\nWhen you raise a generic exception, such as Exception or RuntimeError, you are essentially saying “I don’t know what went wrong, but something did.” This is not helpful for either you or your users. It’s much better to be specific about the error that occurred.\\nFor example, if you’re writing a function to parse a date from a string, and the string is in an invalid format, it’s better to raise a ValueError than a generic Exception. That way, you can handle the specific error case, and your users will know exactly what went wrong.\\nOf course, there are times when you really don’t know what went wrong, and in those cases, a generic exception may be appropriate. But in general, it’s best to be specific.\\n6. Raise Custom Exceptions\\nWhen you’re writing code, it’s important to think about what could go wrong and plan for those contingencies. That way, if something does go wrong, your code can gracefully handle the error instead of crashing.\\nOne way to do this is to raise custom exceptions. By raising a custom exception, you can provide a specific error message that will be displayed to the user. This is helpful because it can give the user a clue as to what went wrong and how to fix it.\\nFor example, let’s say you’re writing a function to calculate the average of a list of numbers. If the list is empty, then the average can’t be calculated. In this case, you would want to raise a custom exception with an error message like “The list is empty. Cannot calculate the average.”\\nRaising custom exceptions is a great way to improve the user experience of your Python code. It can help prevent your code from crashing and can give users a better understanding of what went wrong.\\n.7. Define Your Own Exception Hierarchy\\n When you’re writing code that deals with exceptions, you’ll find yourself handling different types of exceptions in different ways. For example, you might want to log an error and exit gracefully when you encounter a SystemExit exception, but you might want to just log an error when you encounter an ImportError.\\nBy defining your own exception hierarchy, you can write code that handles different types of exceptions in the way that makes the most sense for each type. This will make your code more robust and easier to maintain.\\nTo do this, simply subclass Exception to create your own base exception class, then subclass that for each different type of exception you want to handle. For example:\\nclass MyBaseException(Exception):\\npass\\nclass MySystemExitException(MyBaseException):\\npass\\nclass MyImportError(MyBaseException):\\npass\\nNow you can write code that handles each type of exception in the way that makes the most sense. For example:\\ntry:\\n# Some code that might throw an exception\\nexcept MySystemExitException:\\n# Handle this type of exception by logging it and exiting gracefully\\nexcept MyImportError:\\n# Handle this type of exception by just logging it\\nelse:\\n# No exceptions were raised, so handle this case accordingly\\n8. Document All Exceptions Thrown by a Function\\n If you don’t document the exceptions thrown by a function, then other developers who use that function won’t know what to expect. This can lead to unexpected behavior, and can even cause errors in production if an exception is raised that wasn’t anticipated.\\n8. Documenting exceptions is also important for code maintainability. If you need to change the way a function behaves when an exception is raised, you’ll need to update the documentation accordingly. Otherwise, other developers might not be aware of the change, and they could end up writing code that doesn’t work as expected.\\nFinally, documenting exceptions can help with debugging. If you know what exceptions a function can raise, then you can narrow down the possible causes of an error when one occurs.\\n9. Provide Contextual Information When Raising an Exception\\nWhen an exception is raised, the Python interpreter stops execution of the program and prints out a traceback. The traceback starts with the line where the exception was raised and includes the lines of code that were executed leading up to that point.\\nIf you provide contextual information when raising an exception, it will be included in the traceback and will help the person who is debugging the code to understand what went wrong. For example, if you’re raising an exception because a file could not be found, you should include the name of the file in the exception message.\\nSimilarly, if you’re raising an exception because a value is not valid, you should include the value in the exception message. This will help the person who is debugging the code to understand why the exception was raised and will make it easier to fix the problem.\\n10. Write Tests to Ensure That Exceptions Are Raised Correctly\\nIf you don’t write tests, you can’t be sure that your code is actually raising the exceptions you think it is. This can lead to all sorts of problems down the line, including hard-to-find bugs and unexpected behavior.\\nWriting tests also forces you to think about what should happen when an exception is raised, which can help you design your code in a more robust and resilient way.\\nFinally, tests can serve as documentation for your code, making it easier for others (or future you) to understand what’s going on.\")\n",
    "    e.close()"
   ]
  },
  {
   "cell_type": "code",
   "execution_count": null,
   "metadata": {},
   "outputs": [],
   "source": [
    "# -----> Note Q_6 ANS is write by Exception.txt file. You want to read Q_6 ANS first run the code and see File in to the current directry and open the file and see the answer. thank you !"
   ]
  }
 ],
 "metadata": {
  "kernelspec": {
   "display_name": "Python 3",
   "language": "python",
   "name": "python3"
  },
  "language_info": {
   "codemirror_mode": {
    "name": "ipython",
    "version": 3
   },
   "file_extension": ".py",
   "mimetype": "text/x-python",
   "name": "python",
   "nbconvert_exporter": "python",
   "pygments_lexer": "ipython3",
   "version": "3.10.0"
  },
  "orig_nbformat": 4
 },
 "nbformat": 4,
 "nbformat_minor": 2
}
